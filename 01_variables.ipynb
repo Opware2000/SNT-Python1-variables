{
 "cells": [
  {
   "cell_type": "markdown",
   "metadata": {},
   "source": [
    "# Variables et type de données"
   ]
  },
  {
   "source": [
    "Dans un programme informatique, on va avoir en permanence besoin de stocker provisoirement des **valeurs**. Il peut s’agir de données issues du disque dur, fournies par l’utilisateur (frappées au clavier, clic de souris), enregistrées par un capteur... \n",
    "\n",
    "Il peut aussi s’agir de résultats obtenus par le programme, intermédiaires ou définitifs. \n",
    "\n",
    "Ces données peuvent être de plusieurs types : elles peuvent être des nombres, du texte, etc. Toujours est-il que dès que l’on a besoin de stocker une information au cours d’un programme, on utilise une **variable**."
   ],
   "cell_type": "markdown",
   "metadata": {}
  },
  {
   "cell_type": "markdown",
   "metadata": {},
   "source": [
    "\n",
    "## 1/ Les variables\n",
    "\n",
    "Pour employer une image, on peut considérer qu'une **variable** est une sorte de petite boite dans lequelle on range une **donnée** (une valeur). \n",
    "\n",
    "On identifie cette boite par une étiquette qui est le **nom de la variable**. Cela permet de retrouver cette *boite* parmi tous les autres que constitue la mémoire.\n",
    "\n",
    "Pour dire qu'on met une valeur en mémoire dans une variable, on parle d'**affectation**. En pseudo-code, l'instruction d'affectation se note avec le signe ←\n"
   ]
  },
  {
   "source": [
    "#### Exemple 1 :\n",
    "On considère l’algorithme en langage naturel (on parle également de pseudo-code) suivant :\n",
    "\n",
    "```\n",
    "x ← 2\n",
    "y ← 3\n",
    "z ← x+y\n",
    "afficher z\n",
    "```\n",
    "Sa traduction avec le langage Scracth utilisé au collège est :"
   ],
   "cell_type": "markdown",
   "metadata": {}
  },
  {
   "source": [
    "![Programme Scratch](assets/scracth23.png)"
   ],
   "cell_type": "markdown",
   "metadata": {}
  },
  {
   "source": [
    "Quelle est la valeur affichée par cet algorithme ?"
   ],
   "cell_type": "markdown",
   "metadata": {}
  },
  {
   "source": [
    "Réponse :  (double cliquer pour répondre)"
   ],
   "cell_type": "markdown",
   "metadata": {}
  },
  {
   "source": [
    "Vérifier votre réponse en exécutant le programme en Python ci-dessous : (cliquer dans le cadre puis sur le bouton \"Exécuter\" dans la barre en haut)"
   ],
   "cell_type": "markdown",
   "metadata": {}
  },
  {
   "cell_type": "code",
   "execution_count": null,
   "metadata": {},
   "outputs": [],
   "source": [
    "x = 2\n",
    "y = 3\n",
    "z = x + y\n",
    "print(z)"
   ]
  },
  {
   "source": [
    "## 2/ Affectation des variables"
   ],
   "cell_type": "markdown",
   "metadata": {}
  },
  {
   "cell_type": "markdown",
   "metadata": {},
   "source": [
    "Comme vous l'avez remarqué, l'instruction d'affectation en Python se fait avec le signe `=` .\n",
    "\n",
    "Ainsi la ligne"
   ]
  },
  {
   "cell_type": "code",
   "execution_count": 8,
   "metadata": {},
   "outputs": [],
   "source": [
    "x = 2"
   ]
  },
  {
   "cell_type": "markdown",
   "metadata": {},
   "source": [
    "créé en mémoire une *boite* nommé 'x' qui contient l'entier 2."
   ]
  },
  {
   "source": [
    "L'**affectation** est l'action qui permet l'attribution d'un contenu à une variable. C'est en fait le remplissage de notre *boite*. C'est cette instruction en Python qui fixe le type de notre variable. On appelle cela en Python le typage dynamique."
   ],
   "cell_type": "markdown",
   "metadata": {}
  },
  {
   "cell_type": "markdown",
   "metadata": {},
   "source": [
    "## 3/  Convention d'écriture (les bonnes pratiques)"
   ]
  },
  {
   "cell_type": "markdown",
   "metadata": {},
   "source": [
    "En règle générale, on se limite aux caractères alphanumériques (a-z, 0-9) non accentués et au caractère de soulignement *underscore* (_) [le tiret bas, que certain appellent \"**tiret-du-8**\"]. \n",
    "\n",
    "On prendra également soin de nommer les variables de façon *lisible* afin de savoir facilement le but de cette variable.\n",
    "\n",
    "Il s'agit uniquement d'une convention, ceci n'est pas imposé par le langage lui-même mais cela permet d'avoir une lecture plus facile de nos programme.\n"
   ]
  },
  {
   "cell_type": "markdown",
   "metadata": {},
   "source": [
    "#### Exemples 2"
   ]
  },
  {
   "cell_type": "code",
   "execution_count": 2,
   "metadata": {},
   "outputs": [],
   "source": [
    "age = 16\n",
    "taille_m = 1.8"
   ]
  },
  {
   "cell_type": "markdown",
   "metadata": {},
   "source": [
    "On voit bien ici que nos variables sont clairement identifiées et bien plus parlantes que dans l'exemple suivant :"
   ]
  },
  {
   "cell_type": "code",
   "execution_count": 3,
   "metadata": {},
   "outputs": [],
   "source": [
    "a = 16\n",
    "b = 1.8"
   ]
  },
  {
   "source": [
    "## Exercices\n",
    "### Exercice 1\n",
    "Quelle sera la valeur de la variable C affichée après l'exécution du code ci-dessous ?\n",
    "\n",
    "```\n",
    "A ← 5\n",
    "B ← 3\n",
    "C ← A + B\n",
    "A ← 2\n",
    "C ← B – A\n",
    "```"
   ],
   "cell_type": "markdown",
   "metadata": {}
  },
  {
   "source": [
    "Réponse : "
   ],
   "cell_type": "markdown",
   "metadata": {}
  },
  {
   "source": [
    "Vérifier votre réponse en exécutant le programme en Python ci-dessous :"
   ],
   "cell_type": "markdown",
   "metadata": {}
  },
  {
   "cell_type": "code",
   "execution_count": null,
   "metadata": {},
   "outputs": [],
   "source": [
    "A = 5\n",
    "B = 3\n",
    "C = A+B\n",
    "A = 2\n",
    "C = B-A\n",
    "print(C)"
   ]
  },
  {
   "source": [
    "### Exercice 2\n",
    "\n",
    "Quelle sera la valeur de la variable B affichée après l'exécution du code ci-dessous ?\n",
    "    \n",
    "```\n",
    "A ← 5\n",
    "B ← A + 4\n",
    "A ← A + 1\n",
    "B ← A – 4\n",
    "```"
   ],
   "cell_type": "markdown",
   "metadata": {}
  },
  {
   "source": [
    "Réponse :\n"
   ],
   "cell_type": "markdown",
   "metadata": {}
  },
  {
   "source": [
    "Vérifier maintenant votre réponse en complétant et exécutant le code Python ci-dessous :"
   ],
   "cell_type": "markdown",
   "metadata": {}
  },
  {
   "cell_type": "code",
   "execution_count": null,
   "metadata": {},
   "outputs": [],
   "source": [
    "A = 5\n",
    "B = "
   ]
  },
  {
   "cell_type": "markdown",
   "metadata": {},
   "source": [
    "##  4/ Les types de données"
   ]
  },
  {
   "cell_type": "markdown",
   "metadata": {},
   "source": [
    "Les variables peuvent être de plusieurs types possibles. Les plus fréquents en Python sont :"
   ]
  },
  {
   "cell_type": "markdown",
   "metadata": {},
   "source": [
    "<table>\n",
    "<thead>\n",
    "<tr>\n",
    "<th align=\"left\">Type </th>\n",
    "<th align=\"center\">À quoi ça sert.</th>\n",
    "<th align=\"right\"> Exemples </th>\n",
    "</tr>\n",
    "</thead>\n",
    "<tbody>\n",
    "<tr>\n",
    "<td align=\"left\"> <pre>int</pre> </td>\n",
    "<td align=\"center\"> Les entiers  </td>\n",
    "<td align=\"right\"> …, -5, -1, 0, 2, 6, … </td>\n",
    "</tr>\n",
    "<tr>\n",
    "<td align=\"left\"> <pre>float</pre> </td>\n",
    "<td align=\"center\"> Les réels </td>\n",
    "<td align=\"right\"> -5.28, 13.0, 18.7 </td>\n",
    "</tr>\n",
    "<tr>\n",
    "<td align=\"left\"> <pre>str</pre> </td>\n",
    "<td align=\"center\"> Les chaînes de caractères (texte) </td>\n",
    "<td align=\"right\"> ’Janvier’, ‘’28b6’’, ‘13’ </td>\n",
    "</tr>\n",
    "<tr>\n",
    "<td align=\"left\"> <pre>bool</pre> </td>\n",
    "<td align=\"center\"> Les booléens </td>\n",
    "<td align=\"right\"> uniquement deux valeurs possibles <b>True</b> (Vrai) ou <b>False</b> (Faux) </td>\n",
    "</tr>\n",
    "<tr>\n",
    "<td align=\"left\"> <pre>list</pre> </td>\n",
    "<td align=\"center\"> C’est une liste (ou tableau) dans lequel on peut stocker plusieurs valeurs idéalement de même type </td>\n",
    "<td align=\"right\"> [0, 1, 2, 4], [‘Janvier’, ‘Février’, ‘Mars’] </td>\n",
    "</tr>\n",
    "</tbody>\n",
    "</table>"
   ]
  },
  {
   "cell_type": "markdown",
   "metadata": {},
   "source": [
    "Pour connaitre le type de la variable `x`, en python on utilise la fonction **type(x)**. Par exemple, la variable 'age' utilisée plus haut est bien de type entier :"
   ]
  },
  {
   "cell_type": "code",
   "execution_count": 4,
   "metadata": {
    "scrolled": true
   },
   "outputs": [
    {
     "data": {
      "text/plain": [
       "int"
      ]
     },
     "execution_count": 4,
     "metadata": {},
     "output_type": "execute_result"
    }
   ],
   "source": [
    "type(age)"
   ]
  },
  {
   "cell_type": "code",
   "execution_count": 5,
   "metadata": {},
   "outputs": [
    {
     "data": {
      "text/plain": [
       "str"
      ]
     },
     "execution_count": 5,
     "metadata": {},
     "output_type": "execute_result"
    }
   ],
   "source": [
    "chaine = \"16\"\n",
    "type(chaine)"
   ]
  },
  {
   "cell_type": "markdown",
   "metadata": {},
   "source": [
    "##  Attention au type !"
   ]
  },
  {
   "cell_type": "markdown",
   "metadata": {},
   "source": [
    "Ici la variable *chaine* contient la chaine de caractères constituée du caractère **'1'** suivi du caractère **'6'** et non de l'entier 16. Il faut donc être trés vigilant avec le type de notre variable !"
   ]
  },
  {
   "source": [
    "#### Exemple 3\n",
    "\n"
   ],
   "cell_type": "markdown",
   "metadata": {}
  },
  {
   "cell_type": "code",
   "execution_count": 2,
   "metadata": {},
   "outputs": [],
   "source": [
    "pointure = 43\n",
    "longueur = 6.0\n",
    "condition_realisee = False\n",
    "nom = \"Tartampion\"\n",
    "liste_des_mois = [\"janvier\", \n",
    "                  \"février\",\n",
    "                  \"mars\",\n",
    "                  \"avril\",\n",
    "                  \"mai\",\n",
    "                  \"juin\",\n",
    "                  \"juillet\",\n",
    "                  \"août\",\n",
    "                  \"septembre\",\n",
    "                  \"octobre\",\n",
    "                  \"novembre\",\n",
    "                  \"décembre\"]"
   ]
  },
  {
   "source": [
    "Dans cet exemple, nous avons affecté un contenu (dont le type correspond aux 5 principaux types Python) à chacune de nos 5 variables. \n",
    "\n",
    "Remarquez le respect des bonnes pratiques concernant le nom de nos variables. Nous pouvons vérifier le typage *dynamique* de nos variables :"
   ],
   "cell_type": "markdown",
   "metadata": {}
  },
  {
   "cell_type": "code",
   "execution_count": 3,
   "metadata": {},
   "outputs": [
    {
     "output_type": "execute_result",
     "data": {
      "text/plain": "int"
     },
     "metadata": {},
     "execution_count": 3
    }
   ],
   "source": [
    "type(pointure)"
   ]
  },
  {
   "cell_type": "code",
   "execution_count": 4,
   "metadata": {},
   "outputs": [
    {
     "output_type": "execute_result",
     "data": {
      "text/plain": "float"
     },
     "metadata": {},
     "execution_count": 4
    }
   ],
   "source": [
    "type(longueur)"
   ]
  },
  {
   "cell_type": "code",
   "execution_count": 5,
   "metadata": {},
   "outputs": [
    {
     "output_type": "execute_result",
     "data": {
      "text/plain": "bool"
     },
     "metadata": {},
     "execution_count": 5
    }
   ],
   "source": [
    "type(condition_realisee)"
   ]
  },
  {
   "cell_type": "code",
   "execution_count": 6,
   "metadata": {},
   "outputs": [
    {
     "output_type": "execute_result",
     "data": {
      "text/plain": "str"
     },
     "metadata": {},
     "execution_count": 6
    }
   ],
   "source": [
    "type(nom)"
   ]
  },
  {
   "cell_type": "code",
   "execution_count": 7,
   "metadata": {},
   "outputs": [
    {
     "output_type": "execute_result",
     "data": {
      "text/plain": "list"
     },
     "metadata": {},
     "execution_count": 7
    }
   ],
   "source": [
    "type(liste_des_mois)"
   ]
  },
  {
   "cell_type": "code",
   "execution_count": null,
   "metadata": {},
   "outputs": [],
   "source": []
  }
 ],
 "metadata": {
  "kernelspec": {
   "display_name": "Python 3",
   "language": "python",
   "name": "python3"
  },
  "language_info": {
   "codemirror_mode": {
    "name": "ipython",
    "version": 3
   },
   "file_extension": ".py",
   "mimetype": "text/x-python",
   "name": "python",
   "nbconvert_exporter": "python",
   "pygments_lexer": "ipython3",
   "version": "3.8.5-final"
  }
 },
 "nbformat": 4,
 "nbformat_minor": 2
}